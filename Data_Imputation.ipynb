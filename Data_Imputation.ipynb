{
  "nbformat": 4,
  "nbformat_minor": 0,
  "metadata": {
    "colab": {
      "provenance": [],
      "authorship_tag": "ABX9TyNHVzns58GOHpBYWqouCmwJ",
      "include_colab_link": true
    },
    "kernelspec": {
      "name": "python3",
      "display_name": "Python 3"
    },
    "language_info": {
      "name": "python"
    }
  },
  "cells": [
    {
      "cell_type": "markdown",
      "metadata": {
        "id": "view-in-github",
        "colab_type": "text"
      },
      "source": [
        "<a href=\"https://colab.research.google.com/github/tutur90/Weather-Forecast/blob/main/Data_Imputation.ipynb\" target=\"_parent\"><img src=\"https://colab.research.google.com/assets/colab-badge.svg\" alt=\"Open In Colab\"/></a>"
      ]
    },
    {
      "cell_type": "markdown",
      "source": [
        "<h1>Data Imputation<h1>\n",
        "\n",
        "On this notebook, we will try to determine the better model for imputation on our dataset of wather"
      ],
      "metadata": {
        "id": "FP1o1OeuBoKa"
      }
    },
    {
      "cell_type": "markdown",
      "source": [
        "# Imports"
      ],
      "metadata": {
        "id": "gNquDnKGCQtm"
      }
    },
    {
      "cell_type": "code",
      "execution_count": null,
      "metadata": {
        "colab": {
          "base_uri": "https://localhost:8080/"
        },
        "id": "l2DqJC1XGqgZ",
        "outputId": "9db90af7-6289-4f4f-e247-737bbd6519bd"
      },
      "outputs": [
        {
          "output_type": "stream",
          "name": "stdout",
          "text": [
            "Requirement already satisfied: pypots in /usr/local/lib/python3.10/dist-packages (0.5)\n",
            "Requirement already satisfied: h5py in /usr/local/lib/python3.10/dist-packages (from pypots) (3.9.0)\n",
            "Requirement already satisfied: numpy in /usr/local/lib/python3.10/dist-packages (from pypots) (1.25.2)\n",
            "Requirement already satisfied: scipy in /usr/local/lib/python3.10/dist-packages (from pypots) (1.11.4)\n",
            "Requirement already satisfied: sympy in /usr/local/lib/python3.10/dist-packages (from pypots) (1.12)\n",
            "Requirement already satisfied: einops in /usr/local/lib/python3.10/dist-packages (from pypots) (0.8.0)\n",
            "Requirement already satisfied: pandas in /usr/local/lib/python3.10/dist-packages (from pypots) (2.0.3)\n",
            "Requirement already satisfied: matplotlib in /usr/local/lib/python3.10/dist-packages (from pypots) (3.7.1)\n",
            "Requirement already satisfied: tensorboard in /usr/local/lib/python3.10/dist-packages (from pypots) (2.15.2)\n",
            "Requirement already satisfied: scikit-learn in /usr/local/lib/python3.10/dist-packages (from pypots) (1.2.2)\n",
            "Requirement already satisfied: torch>=1.10.0 in /usr/local/lib/python3.10/dist-packages (from pypots) (2.2.1+cu121)\n",
            "Requirement already satisfied: tsdb>=0.2 in /usr/local/lib/python3.10/dist-packages (from pypots) (0.3.1)\n",
            "Requirement already satisfied: pygrinder>=0.4 in /usr/local/lib/python3.10/dist-packages (from pypots) (0.4)\n",
            "Requirement already satisfied: filelock in /usr/local/lib/python3.10/dist-packages (from torch>=1.10.0->pypots) (3.14.0)\n",
            "Requirement already satisfied: typing-extensions>=4.8.0 in /usr/local/lib/python3.10/dist-packages (from torch>=1.10.0->pypots) (4.11.0)\n",
            "Requirement already satisfied: networkx in /usr/local/lib/python3.10/dist-packages (from torch>=1.10.0->pypots) (3.3)\n",
            "Requirement already satisfied: jinja2 in /usr/local/lib/python3.10/dist-packages (from torch>=1.10.0->pypots) (3.1.3)\n",
            "Requirement already satisfied: fsspec in /usr/local/lib/python3.10/dist-packages (from torch>=1.10.0->pypots) (2023.6.0)\n",
            "Requirement already satisfied: nvidia-cuda-nvrtc-cu12==12.1.105 in /usr/local/lib/python3.10/dist-packages (from torch>=1.10.0->pypots) (12.1.105)\n",
            "Requirement already satisfied: nvidia-cuda-runtime-cu12==12.1.105 in /usr/local/lib/python3.10/dist-packages (from torch>=1.10.0->pypots) (12.1.105)\n",
            "Requirement already satisfied: nvidia-cuda-cupti-cu12==12.1.105 in /usr/local/lib/python3.10/dist-packages (from torch>=1.10.0->pypots) (12.1.105)\n",
            "Requirement already satisfied: nvidia-cudnn-cu12==8.9.2.26 in /usr/local/lib/python3.10/dist-packages (from torch>=1.10.0->pypots) (8.9.2.26)\n",
            "Requirement already satisfied: nvidia-cublas-cu12==12.1.3.1 in /usr/local/lib/python3.10/dist-packages (from torch>=1.10.0->pypots) (12.1.3.1)\n",
            "Requirement already satisfied: nvidia-cufft-cu12==11.0.2.54 in /usr/local/lib/python3.10/dist-packages (from torch>=1.10.0->pypots) (11.0.2.54)\n",
            "Requirement already satisfied: nvidia-curand-cu12==10.3.2.106 in /usr/local/lib/python3.10/dist-packages (from torch>=1.10.0->pypots) (10.3.2.106)\n",
            "Requirement already satisfied: nvidia-cusolver-cu12==11.4.5.107 in /usr/local/lib/python3.10/dist-packages (from torch>=1.10.0->pypots) (11.4.5.107)\n",
            "Requirement already satisfied: nvidia-cusparse-cu12==12.1.0.106 in /usr/local/lib/python3.10/dist-packages (from torch>=1.10.0->pypots) (12.1.0.106)\n",
            "Requirement already satisfied: nvidia-nccl-cu12==2.19.3 in /usr/local/lib/python3.10/dist-packages (from torch>=1.10.0->pypots) (2.19.3)\n",
            "Requirement already satisfied: nvidia-nvtx-cu12==12.1.105 in /usr/local/lib/python3.10/dist-packages (from torch>=1.10.0->pypots) (12.1.105)\n",
            "Requirement already satisfied: triton==2.2.0 in /usr/local/lib/python3.10/dist-packages (from torch>=1.10.0->pypots) (2.2.0)\n",
            "Requirement already satisfied: nvidia-nvjitlink-cu12 in /usr/local/lib/python3.10/dist-packages (from nvidia-cusolver-cu12==11.4.5.107->torch>=1.10.0->pypots) (12.4.127)\n",
            "Requirement already satisfied: pyarrow in /usr/local/lib/python3.10/dist-packages (from tsdb>=0.2->pypots) (14.0.2)\n",
            "Requirement already satisfied: contourpy>=1.0.1 in /usr/local/lib/python3.10/dist-packages (from matplotlib->pypots) (1.2.1)\n",
            "Requirement already satisfied: cycler>=0.10 in /usr/local/lib/python3.10/dist-packages (from matplotlib->pypots) (0.12.1)\n",
            "Requirement already satisfied: fonttools>=4.22.0 in /usr/local/lib/python3.10/dist-packages (from matplotlib->pypots) (4.51.0)\n",
            "Requirement already satisfied: kiwisolver>=1.0.1 in /usr/local/lib/python3.10/dist-packages (from matplotlib->pypots) (1.4.5)\n",
            "Requirement already satisfied: packaging>=20.0 in /usr/local/lib/python3.10/dist-packages (from matplotlib->pypots) (24.0)\n",
            "Requirement already satisfied: pillow>=6.2.0 in /usr/local/lib/python3.10/dist-packages (from matplotlib->pypots) (9.4.0)\n",
            "Requirement already satisfied: pyparsing>=2.3.1 in /usr/local/lib/python3.10/dist-packages (from matplotlib->pypots) (3.1.2)\n",
            "Requirement already satisfied: python-dateutil>=2.7 in /usr/local/lib/python3.10/dist-packages (from matplotlib->pypots) (2.8.2)\n",
            "Requirement already satisfied: pytz>=2020.1 in /usr/local/lib/python3.10/dist-packages (from pandas->pypots) (2023.4)\n",
            "Requirement already satisfied: tzdata>=2022.1 in /usr/local/lib/python3.10/dist-packages (from pandas->pypots) (2024.1)\n",
            "Requirement already satisfied: joblib>=1.1.1 in /usr/local/lib/python3.10/dist-packages (from scikit-learn->pypots) (1.4.2)\n",
            "Requirement already satisfied: threadpoolctl>=2.0.0 in /usr/local/lib/python3.10/dist-packages (from scikit-learn->pypots) (3.5.0)\n",
            "Requirement already satisfied: mpmath>=0.19 in /usr/local/lib/python3.10/dist-packages (from sympy->pypots) (1.3.0)\n",
            "Requirement already satisfied: absl-py>=0.4 in /usr/local/lib/python3.10/dist-packages (from tensorboard->pypots) (1.4.0)\n",
            "Requirement already satisfied: grpcio>=1.48.2 in /usr/local/lib/python3.10/dist-packages (from tensorboard->pypots) (1.63.0)\n",
            "Requirement already satisfied: google-auth<3,>=1.6.3 in /usr/local/lib/python3.10/dist-packages (from tensorboard->pypots) (2.27.0)\n",
            "Requirement already satisfied: google-auth-oauthlib<2,>=0.5 in /usr/local/lib/python3.10/dist-packages (from tensorboard->pypots) (1.2.0)\n",
            "Requirement already satisfied: markdown>=2.6.8 in /usr/local/lib/python3.10/dist-packages (from tensorboard->pypots) (3.6)\n",
            "Requirement already satisfied: protobuf!=4.24.0,>=3.19.6 in /usr/local/lib/python3.10/dist-packages (from tensorboard->pypots) (3.20.3)\n",
            "Requirement already satisfied: requests<3,>=2.21.0 in /usr/local/lib/python3.10/dist-packages (from tensorboard->pypots) (2.31.0)\n",
            "Requirement already satisfied: setuptools>=41.0.0 in /usr/local/lib/python3.10/dist-packages (from tensorboard->pypots) (67.7.2)\n",
            "Requirement already satisfied: six>1.9 in /usr/local/lib/python3.10/dist-packages (from tensorboard->pypots) (1.16.0)\n",
            "Requirement already satisfied: tensorboard-data-server<0.8.0,>=0.7.0 in /usr/local/lib/python3.10/dist-packages (from tensorboard->pypots) (0.7.2)\n",
            "Requirement already satisfied: werkzeug>=1.0.1 in /usr/local/lib/python3.10/dist-packages (from tensorboard->pypots) (3.0.2)\n",
            "Requirement already satisfied: cachetools<6.0,>=2.0.0 in /usr/local/lib/python3.10/dist-packages (from google-auth<3,>=1.6.3->tensorboard->pypots) (5.3.3)\n",
            "Requirement already satisfied: pyasn1-modules>=0.2.1 in /usr/local/lib/python3.10/dist-packages (from google-auth<3,>=1.6.3->tensorboard->pypots) (0.4.0)\n",
            "Requirement already satisfied: rsa<5,>=3.1.4 in /usr/local/lib/python3.10/dist-packages (from google-auth<3,>=1.6.3->tensorboard->pypots) (4.9)\n",
            "Requirement already satisfied: requests-oauthlib>=0.7.0 in /usr/local/lib/python3.10/dist-packages (from google-auth-oauthlib<2,>=0.5->tensorboard->pypots) (1.3.1)\n",
            "Requirement already satisfied: charset-normalizer<4,>=2 in /usr/local/lib/python3.10/dist-packages (from requests<3,>=2.21.0->tensorboard->pypots) (3.3.2)\n",
            "Requirement already satisfied: idna<4,>=2.5 in /usr/local/lib/python3.10/dist-packages (from requests<3,>=2.21.0->tensorboard->pypots) (3.7)\n",
            "Requirement already satisfied: urllib3<3,>=1.21.1 in /usr/local/lib/python3.10/dist-packages (from requests<3,>=2.21.0->tensorboard->pypots) (2.0.7)\n",
            "Requirement already satisfied: certifi>=2017.4.17 in /usr/local/lib/python3.10/dist-packages (from requests<3,>=2.21.0->tensorboard->pypots) (2024.2.2)\n",
            "Requirement already satisfied: MarkupSafe>=2.1.1 in /usr/local/lib/python3.10/dist-packages (from werkzeug>=1.0.1->tensorboard->pypots) (2.1.5)\n",
            "Requirement already satisfied: pyasn1<0.7.0,>=0.4.6 in /usr/local/lib/python3.10/dist-packages (from pyasn1-modules>=0.2.1->google-auth<3,>=1.6.3->tensorboard->pypots) (0.6.0)\n",
            "Requirement already satisfied: oauthlib>=3.0.0 in /usr/local/lib/python3.10/dist-packages (from requests-oauthlib>=0.7.0->google-auth-oauthlib<2,>=0.5->tensorboard->pypots) (3.2.2)\n",
            "Requirement already satisfied: pypots in /usr/local/lib/python3.10/dist-packages (0.5)\n",
            "Requirement already satisfied: h5py in /usr/local/lib/python3.10/dist-packages (from pypots) (3.9.0)\n",
            "Requirement already satisfied: numpy in /usr/local/lib/python3.10/dist-packages (from pypots) (1.25.2)\n",
            "Requirement already satisfied: scipy in /usr/local/lib/python3.10/dist-packages (from pypots) (1.11.4)\n",
            "Requirement already satisfied: sympy in /usr/local/lib/python3.10/dist-packages (from pypots) (1.12)\n",
            "Requirement already satisfied: einops in /usr/local/lib/python3.10/dist-packages (from pypots) (0.8.0)\n",
            "Requirement already satisfied: pandas in /usr/local/lib/python3.10/dist-packages (from pypots) (2.0.3)\n",
            "Requirement already satisfied: matplotlib in /usr/local/lib/python3.10/dist-packages (from pypots) (3.7.1)\n",
            "Requirement already satisfied: tensorboard in /usr/local/lib/python3.10/dist-packages (from pypots) (2.15.2)\n",
            "Requirement already satisfied: scikit-learn in /usr/local/lib/python3.10/dist-packages (from pypots) (1.2.2)\n",
            "Requirement already satisfied: torch>=1.10.0 in /usr/local/lib/python3.10/dist-packages (from pypots) (2.2.1+cu121)\n",
            "Requirement already satisfied: tsdb>=0.2 in /usr/local/lib/python3.10/dist-packages (from pypots) (0.3.1)\n",
            "Requirement already satisfied: pygrinder>=0.4 in /usr/local/lib/python3.10/dist-packages (from pypots) (0.4)\n",
            "Requirement already satisfied: filelock in /usr/local/lib/python3.10/dist-packages (from torch>=1.10.0->pypots) (3.14.0)\n",
            "Requirement already satisfied: typing-extensions>=4.8.0 in /usr/local/lib/python3.10/dist-packages (from torch>=1.10.0->pypots) (4.11.0)\n",
            "Requirement already satisfied: networkx in /usr/local/lib/python3.10/dist-packages (from torch>=1.10.0->pypots) (3.3)\n",
            "Requirement already satisfied: jinja2 in /usr/local/lib/python3.10/dist-packages (from torch>=1.10.0->pypots) (3.1.3)\n",
            "Requirement already satisfied: fsspec in /usr/local/lib/python3.10/dist-packages (from torch>=1.10.0->pypots) (2023.6.0)\n",
            "Requirement already satisfied: nvidia-cuda-nvrtc-cu12==12.1.105 in /usr/local/lib/python3.10/dist-packages (from torch>=1.10.0->pypots) (12.1.105)\n",
            "Requirement already satisfied: nvidia-cuda-runtime-cu12==12.1.105 in /usr/local/lib/python3.10/dist-packages (from torch>=1.10.0->pypots) (12.1.105)\n",
            "Requirement already satisfied: nvidia-cuda-cupti-cu12==12.1.105 in /usr/local/lib/python3.10/dist-packages (from torch>=1.10.0->pypots) (12.1.105)\n",
            "Requirement already satisfied: nvidia-cudnn-cu12==8.9.2.26 in /usr/local/lib/python3.10/dist-packages (from torch>=1.10.0->pypots) (8.9.2.26)\n",
            "Requirement already satisfied: nvidia-cublas-cu12==12.1.3.1 in /usr/local/lib/python3.10/dist-packages (from torch>=1.10.0->pypots) (12.1.3.1)\n",
            "Requirement already satisfied: nvidia-cufft-cu12==11.0.2.54 in /usr/local/lib/python3.10/dist-packages (from torch>=1.10.0->pypots) (11.0.2.54)\n",
            "Requirement already satisfied: nvidia-curand-cu12==10.3.2.106 in /usr/local/lib/python3.10/dist-packages (from torch>=1.10.0->pypots) (10.3.2.106)\n",
            "Requirement already satisfied: nvidia-cusolver-cu12==11.4.5.107 in /usr/local/lib/python3.10/dist-packages (from torch>=1.10.0->pypots) (11.4.5.107)\n",
            "Requirement already satisfied: nvidia-cusparse-cu12==12.1.0.106 in /usr/local/lib/python3.10/dist-packages (from torch>=1.10.0->pypots) (12.1.0.106)\n",
            "Requirement already satisfied: nvidia-nccl-cu12==2.19.3 in /usr/local/lib/python3.10/dist-packages (from torch>=1.10.0->pypots) (2.19.3)\n",
            "Requirement already satisfied: nvidia-nvtx-cu12==12.1.105 in /usr/local/lib/python3.10/dist-packages (from torch>=1.10.0->pypots) (12.1.105)\n",
            "Requirement already satisfied: triton==2.2.0 in /usr/local/lib/python3.10/dist-packages (from torch>=1.10.0->pypots) (2.2.0)\n",
            "Requirement already satisfied: nvidia-nvjitlink-cu12 in /usr/local/lib/python3.10/dist-packages (from nvidia-cusolver-cu12==11.4.5.107->torch>=1.10.0->pypots) (12.4.127)\n",
            "Requirement already satisfied: pyarrow in /usr/local/lib/python3.10/dist-packages (from tsdb>=0.2->pypots) (14.0.2)\n",
            "Requirement already satisfied: contourpy>=1.0.1 in /usr/local/lib/python3.10/dist-packages (from matplotlib->pypots) (1.2.1)\n",
            "Requirement already satisfied: cycler>=0.10 in /usr/local/lib/python3.10/dist-packages (from matplotlib->pypots) (0.12.1)\n",
            "Requirement already satisfied: fonttools>=4.22.0 in /usr/local/lib/python3.10/dist-packages (from matplotlib->pypots) (4.51.0)\n",
            "Requirement already satisfied: kiwisolver>=1.0.1 in /usr/local/lib/python3.10/dist-packages (from matplotlib->pypots) (1.4.5)\n",
            "Requirement already satisfied: packaging>=20.0 in /usr/local/lib/python3.10/dist-packages (from matplotlib->pypots) (24.0)\n",
            "Requirement already satisfied: pillow>=6.2.0 in /usr/local/lib/python3.10/dist-packages (from matplotlib->pypots) (9.4.0)\n",
            "Requirement already satisfied: pyparsing>=2.3.1 in /usr/local/lib/python3.10/dist-packages (from matplotlib->pypots) (3.1.2)\n",
            "Requirement already satisfied: python-dateutil>=2.7 in /usr/local/lib/python3.10/dist-packages (from matplotlib->pypots) (2.8.2)\n",
            "Requirement already satisfied: pytz>=2020.1 in /usr/local/lib/python3.10/dist-packages (from pandas->pypots) (2023.4)\n",
            "Requirement already satisfied: tzdata>=2022.1 in /usr/local/lib/python3.10/dist-packages (from pandas->pypots) (2024.1)\n",
            "Requirement already satisfied: joblib>=1.1.1 in /usr/local/lib/python3.10/dist-packages (from scikit-learn->pypots) (1.4.2)\n",
            "Requirement already satisfied: threadpoolctl>=2.0.0 in /usr/local/lib/python3.10/dist-packages (from scikit-learn->pypots) (3.5.0)\n",
            "Requirement already satisfied: mpmath>=0.19 in /usr/local/lib/python3.10/dist-packages (from sympy->pypots) (1.3.0)\n",
            "Requirement already satisfied: absl-py>=0.4 in /usr/local/lib/python3.10/dist-packages (from tensorboard->pypots) (1.4.0)\n",
            "Requirement already satisfied: grpcio>=1.48.2 in /usr/local/lib/python3.10/dist-packages (from tensorboard->pypots) (1.63.0)\n",
            "Requirement already satisfied: google-auth<3,>=1.6.3 in /usr/local/lib/python3.10/dist-packages (from tensorboard->pypots) (2.27.0)\n",
            "Requirement already satisfied: google-auth-oauthlib<2,>=0.5 in /usr/local/lib/python3.10/dist-packages (from tensorboard->pypots) (1.2.0)\n",
            "Requirement already satisfied: markdown>=2.6.8 in /usr/local/lib/python3.10/dist-packages (from tensorboard->pypots) (3.6)\n",
            "Requirement already satisfied: protobuf!=4.24.0,>=3.19.6 in /usr/local/lib/python3.10/dist-packages (from tensorboard->pypots) (3.20.3)\n",
            "Requirement already satisfied: requests<3,>=2.21.0 in /usr/local/lib/python3.10/dist-packages (from tensorboard->pypots) (2.31.0)\n",
            "Requirement already satisfied: setuptools>=41.0.0 in /usr/local/lib/python3.10/dist-packages (from tensorboard->pypots) (67.7.2)\n",
            "Requirement already satisfied: six>1.9 in /usr/local/lib/python3.10/dist-packages (from tensorboard->pypots) (1.16.0)\n",
            "Requirement already satisfied: tensorboard-data-server<0.8.0,>=0.7.0 in /usr/local/lib/python3.10/dist-packages (from tensorboard->pypots) (0.7.2)\n",
            "Requirement already satisfied: werkzeug>=1.0.1 in /usr/local/lib/python3.10/dist-packages (from tensorboard->pypots) (3.0.2)\n",
            "Requirement already satisfied: cachetools<6.0,>=2.0.0 in /usr/local/lib/python3.10/dist-packages (from google-auth<3,>=1.6.3->tensorboard->pypots) (5.3.3)\n",
            "Requirement already satisfied: pyasn1-modules>=0.2.1 in /usr/local/lib/python3.10/dist-packages (from google-auth<3,>=1.6.3->tensorboard->pypots) (0.4.0)\n",
            "Requirement already satisfied: rsa<5,>=3.1.4 in /usr/local/lib/python3.10/dist-packages (from google-auth<3,>=1.6.3->tensorboard->pypots) (4.9)\n",
            "Requirement already satisfied: requests-oauthlib>=0.7.0 in /usr/local/lib/python3.10/dist-packages (from google-auth-oauthlib<2,>=0.5->tensorboard->pypots) (1.3.1)\n",
            "Requirement already satisfied: charset-normalizer<4,>=2 in /usr/local/lib/python3.10/dist-packages (from requests<3,>=2.21.0->tensorboard->pypots) (3.3.2)\n",
            "Requirement already satisfied: idna<4,>=2.5 in /usr/local/lib/python3.10/dist-packages (from requests<3,>=2.21.0->tensorboard->pypots) (3.7)\n",
            "Requirement already satisfied: urllib3<3,>=1.21.1 in /usr/local/lib/python3.10/dist-packages (from requests<3,>=2.21.0->tensorboard->pypots) (2.0.7)\n",
            "Requirement already satisfied: certifi>=2017.4.17 in /usr/local/lib/python3.10/dist-packages (from requests<3,>=2.21.0->tensorboard->pypots) (2024.2.2)\n",
            "Requirement already satisfied: MarkupSafe>=2.1.1 in /usr/local/lib/python3.10/dist-packages (from werkzeug>=1.0.1->tensorboard->pypots) (2.1.5)\n",
            "Requirement already satisfied: pyasn1<0.7.0,>=0.4.6 in /usr/local/lib/python3.10/dist-packages (from pyasn1-modules>=0.2.1->google-auth<3,>=1.6.3->tensorboard->pypots) (0.6.0)\n",
            "Requirement already satisfied: oauthlib>=3.0.0 in /usr/local/lib/python3.10/dist-packages (from requests-oauthlib>=0.7.0->google-auth-oauthlib<2,>=0.5->tensorboard->pypots) (3.2.2)\n"
          ]
        }
      ],
      "source": [
        "!pip install pypots            # the first time installation\n",
        "!pip install pypots --upgrade  # update pypots to the latest version"
      ]
    },
    {
      "cell_type": "code",
      "source": [
        "import pandas as pd\n",
        "import missingno as msno\n",
        "import numpy as np\n",
        "from sklearn.preprocessing import StandardScaler\n"
      ],
      "metadata": {
        "id": "uM9mBSnvIiJv"
      },
      "execution_count": null,
      "outputs": []
    },
    {
      "cell_type": "markdown",
      "source": [
        "# Data"
      ],
      "metadata": {
        "id": "xZHqx_R6pRwV"
      }
    },
    {
      "cell_type": "code",
      "source": [
        "df = pd.read_csv(\"https://raw.githubusercontent.com/marsgr6/r-scripts/master/data/WC_INA_Final.csv\")\n",
        "\n",
        "# df.set_index('Oni_date', inplace=True, drop=True)\n",
        "\n",
        "df.drop(columns=['Oni_date', 'ONI', 'ElNino Index 1,2_temp', 'ElNino Index 1,2_annomaly'], inplace=True)\n",
        "\n",
        "var = ''\n",
        "\n",
        "df_in = df.loc[:, df.columns.str.startswith('IN_'+var)]\n",
        "df_wc = df.loc[:, df.columns.str.startswith('WC_'+var)]\n",
        "\n",
        "df.head()"
      ],
      "metadata": {
        "colab": {
          "base_uri": "https://localhost:8080/",
          "height": 255
        },
        "id": "XboNTADcIf73",
        "outputId": "fc729764-ce26-4adc-f176-5e059d95dd98"
      },
      "execution_count": null,
      "outputs": [
        {
          "output_type": "execute_result",
          "data": {
            "text/plain": [
              "   WC_Tx_Muis  WC_Tn_Muis  WC_Ra_Muis  WC_Tx_Quin  WC_Tn_Quin  WC_Ra_Quin  \\\n",
              "0        29.0        22.0       234.3        29.0        21.0       315.8   \n",
              "1        30.0        22.0       193.1        30.0        21.0       249.9   \n",
              "2        30.0        22.0       231.0        30.0        21.0       402.8   \n",
              "3        30.0        22.0       141.8        30.0        21.0       236.2   \n",
              "4        29.0        21.0        79.8        30.0        21.0       103.4   \n",
              "\n",
              "   WC_Tx_Pvie  WC_Tn_Pvie  WC_Ra_Pvie  WC_Tx_Chon  ...  IN_Tx_Sang  \\\n",
              "0        31.0        21.0        67.0       30.25  ...         NaN   \n",
              "1        30.0        22.0        72.2       30.25  ...         NaN   \n",
              "2        31.0        22.0       112.7       31.00  ...         NaN   \n",
              "3        31.0        21.0        46.8       31.00  ...         NaN   \n",
              "4        30.0        20.0        14.8       29.50  ...         NaN   \n",
              "\n",
              "   IN_Ra_Sang  IN_Ta_Tena  IN_Tn_Tena  IN_Tx_Tena  IN_Ra_Tena  IN_Ta_Yanz  \\\n",
              "0         NaN         NaN         NaN         NaN         NaN         NaN   \n",
              "1         NaN         NaN         NaN         NaN         NaN         NaN   \n",
              "2         NaN         NaN         NaN         NaN         NaN         NaN   \n",
              "3         NaN         NaN         NaN         NaN         NaN         NaN   \n",
              "4         NaN         NaN         NaN         NaN         NaN         NaN   \n",
              "\n",
              "   IN_Tn_Yanz  IN_Tx_Yanz  IN_Ra_Yanz  \n",
              "0         NaN         NaN         NaN  \n",
              "1         NaN         NaN         NaN  \n",
              "2         NaN         NaN         NaN  \n",
              "3         NaN         NaN         NaN  \n",
              "4         NaN         NaN         NaN  \n",
              "\n",
              "[5 rows x 154 columns]"
            ],
            "text/html": [
              "\n",
              "  <div id=\"df-bcc49fd5-9ec7-4264-bc17-4fbfaee26e60\" class=\"colab-df-container\">\n",
              "    <div>\n",
              "<style scoped>\n",
              "    .dataframe tbody tr th:only-of-type {\n",
              "        vertical-align: middle;\n",
              "    }\n",
              "\n",
              "    .dataframe tbody tr th {\n",
              "        vertical-align: top;\n",
              "    }\n",
              "\n",
              "    .dataframe thead th {\n",
              "        text-align: right;\n",
              "    }\n",
              "</style>\n",
              "<table border=\"1\" class=\"dataframe\">\n",
              "  <thead>\n",
              "    <tr style=\"text-align: right;\">\n",
              "      <th></th>\n",
              "      <th>WC_Tx_Muis</th>\n",
              "      <th>WC_Tn_Muis</th>\n",
              "      <th>WC_Ra_Muis</th>\n",
              "      <th>WC_Tx_Quin</th>\n",
              "      <th>WC_Tn_Quin</th>\n",
              "      <th>WC_Ra_Quin</th>\n",
              "      <th>WC_Tx_Pvie</th>\n",
              "      <th>WC_Tn_Pvie</th>\n",
              "      <th>WC_Ra_Pvie</th>\n",
              "      <th>WC_Tx_Chon</th>\n",
              "      <th>...</th>\n",
              "      <th>IN_Tx_Sang</th>\n",
              "      <th>IN_Ra_Sang</th>\n",
              "      <th>IN_Ta_Tena</th>\n",
              "      <th>IN_Tn_Tena</th>\n",
              "      <th>IN_Tx_Tena</th>\n",
              "      <th>IN_Ra_Tena</th>\n",
              "      <th>IN_Ta_Yanz</th>\n",
              "      <th>IN_Tn_Yanz</th>\n",
              "      <th>IN_Tx_Yanz</th>\n",
              "      <th>IN_Ra_Yanz</th>\n",
              "    </tr>\n",
              "  </thead>\n",
              "  <tbody>\n",
              "    <tr>\n",
              "      <th>0</th>\n",
              "      <td>29.0</td>\n",
              "      <td>22.0</td>\n",
              "      <td>234.3</td>\n",
              "      <td>29.0</td>\n",
              "      <td>21.0</td>\n",
              "      <td>315.8</td>\n",
              "      <td>31.0</td>\n",
              "      <td>21.0</td>\n",
              "      <td>67.0</td>\n",
              "      <td>30.25</td>\n",
              "      <td>...</td>\n",
              "      <td>NaN</td>\n",
              "      <td>NaN</td>\n",
              "      <td>NaN</td>\n",
              "      <td>NaN</td>\n",
              "      <td>NaN</td>\n",
              "      <td>NaN</td>\n",
              "      <td>NaN</td>\n",
              "      <td>NaN</td>\n",
              "      <td>NaN</td>\n",
              "      <td>NaN</td>\n",
              "    </tr>\n",
              "    <tr>\n",
              "      <th>1</th>\n",
              "      <td>30.0</td>\n",
              "      <td>22.0</td>\n",
              "      <td>193.1</td>\n",
              "      <td>30.0</td>\n",
              "      <td>21.0</td>\n",
              "      <td>249.9</td>\n",
              "      <td>30.0</td>\n",
              "      <td>22.0</td>\n",
              "      <td>72.2</td>\n",
              "      <td>30.25</td>\n",
              "      <td>...</td>\n",
              "      <td>NaN</td>\n",
              "      <td>NaN</td>\n",
              "      <td>NaN</td>\n",
              "      <td>NaN</td>\n",
              "      <td>NaN</td>\n",
              "      <td>NaN</td>\n",
              "      <td>NaN</td>\n",
              "      <td>NaN</td>\n",
              "      <td>NaN</td>\n",
              "      <td>NaN</td>\n",
              "    </tr>\n",
              "    <tr>\n",
              "      <th>2</th>\n",
              "      <td>30.0</td>\n",
              "      <td>22.0</td>\n",
              "      <td>231.0</td>\n",
              "      <td>30.0</td>\n",
              "      <td>21.0</td>\n",
              "      <td>402.8</td>\n",
              "      <td>31.0</td>\n",
              "      <td>22.0</td>\n",
              "      <td>112.7</td>\n",
              "      <td>31.00</td>\n",
              "      <td>...</td>\n",
              "      <td>NaN</td>\n",
              "      <td>NaN</td>\n",
              "      <td>NaN</td>\n",
              "      <td>NaN</td>\n",
              "      <td>NaN</td>\n",
              "      <td>NaN</td>\n",
              "      <td>NaN</td>\n",
              "      <td>NaN</td>\n",
              "      <td>NaN</td>\n",
              "      <td>NaN</td>\n",
              "    </tr>\n",
              "    <tr>\n",
              "      <th>3</th>\n",
              "      <td>30.0</td>\n",
              "      <td>22.0</td>\n",
              "      <td>141.8</td>\n",
              "      <td>30.0</td>\n",
              "      <td>21.0</td>\n",
              "      <td>236.2</td>\n",
              "      <td>31.0</td>\n",
              "      <td>21.0</td>\n",
              "      <td>46.8</td>\n",
              "      <td>31.00</td>\n",
              "      <td>...</td>\n",
              "      <td>NaN</td>\n",
              "      <td>NaN</td>\n",
              "      <td>NaN</td>\n",
              "      <td>NaN</td>\n",
              "      <td>NaN</td>\n",
              "      <td>NaN</td>\n",
              "      <td>NaN</td>\n",
              "      <td>NaN</td>\n",
              "      <td>NaN</td>\n",
              "      <td>NaN</td>\n",
              "    </tr>\n",
              "    <tr>\n",
              "      <th>4</th>\n",
              "      <td>29.0</td>\n",
              "      <td>21.0</td>\n",
              "      <td>79.8</td>\n",
              "      <td>30.0</td>\n",
              "      <td>21.0</td>\n",
              "      <td>103.4</td>\n",
              "      <td>30.0</td>\n",
              "      <td>20.0</td>\n",
              "      <td>14.8</td>\n",
              "      <td>29.50</td>\n",
              "      <td>...</td>\n",
              "      <td>NaN</td>\n",
              "      <td>NaN</td>\n",
              "      <td>NaN</td>\n",
              "      <td>NaN</td>\n",
              "      <td>NaN</td>\n",
              "      <td>NaN</td>\n",
              "      <td>NaN</td>\n",
              "      <td>NaN</td>\n",
              "      <td>NaN</td>\n",
              "      <td>NaN</td>\n",
              "    </tr>\n",
              "  </tbody>\n",
              "</table>\n",
              "<p>5 rows × 154 columns</p>\n",
              "</div>\n",
              "    <div class=\"colab-df-buttons\">\n",
              "\n",
              "  <div class=\"colab-df-container\">\n",
              "    <button class=\"colab-df-convert\" onclick=\"convertToInteractive('df-bcc49fd5-9ec7-4264-bc17-4fbfaee26e60')\"\n",
              "            title=\"Convert this dataframe to an interactive table.\"\n",
              "            style=\"display:none;\">\n",
              "\n",
              "  <svg xmlns=\"http://www.w3.org/2000/svg\" height=\"24px\" viewBox=\"0 -960 960 960\">\n",
              "    <path d=\"M120-120v-720h720v720H120Zm60-500h600v-160H180v160Zm220 220h160v-160H400v160Zm0 220h160v-160H400v160ZM180-400h160v-160H180v160Zm440 0h160v-160H620v160ZM180-180h160v-160H180v160Zm440 0h160v-160H620v160Z\"/>\n",
              "  </svg>\n",
              "    </button>\n",
              "\n",
              "  <style>\n",
              "    .colab-df-container {\n",
              "      display:flex;\n",
              "      gap: 12px;\n",
              "    }\n",
              "\n",
              "    .colab-df-convert {\n",
              "      background-color: #E8F0FE;\n",
              "      border: none;\n",
              "      border-radius: 50%;\n",
              "      cursor: pointer;\n",
              "      display: none;\n",
              "      fill: #1967D2;\n",
              "      height: 32px;\n",
              "      padding: 0 0 0 0;\n",
              "      width: 32px;\n",
              "    }\n",
              "\n",
              "    .colab-df-convert:hover {\n",
              "      background-color: #E2EBFA;\n",
              "      box-shadow: 0px 1px 2px rgba(60, 64, 67, 0.3), 0px 1px 3px 1px rgba(60, 64, 67, 0.15);\n",
              "      fill: #174EA6;\n",
              "    }\n",
              "\n",
              "    .colab-df-buttons div {\n",
              "      margin-bottom: 4px;\n",
              "    }\n",
              "\n",
              "    [theme=dark] .colab-df-convert {\n",
              "      background-color: #3B4455;\n",
              "      fill: #D2E3FC;\n",
              "    }\n",
              "\n",
              "    [theme=dark] .colab-df-convert:hover {\n",
              "      background-color: #434B5C;\n",
              "      box-shadow: 0px 1px 3px 1px rgba(0, 0, 0, 0.15);\n",
              "      filter: drop-shadow(0px 1px 2px rgba(0, 0, 0, 0.3));\n",
              "      fill: #FFFFFF;\n",
              "    }\n",
              "  </style>\n",
              "\n",
              "    <script>\n",
              "      const buttonEl =\n",
              "        document.querySelector('#df-bcc49fd5-9ec7-4264-bc17-4fbfaee26e60 button.colab-df-convert');\n",
              "      buttonEl.style.display =\n",
              "        google.colab.kernel.accessAllowed ? 'block' : 'none';\n",
              "\n",
              "      async function convertToInteractive(key) {\n",
              "        const element = document.querySelector('#df-bcc49fd5-9ec7-4264-bc17-4fbfaee26e60');\n",
              "        const dataTable =\n",
              "          await google.colab.kernel.invokeFunction('convertToInteractive',\n",
              "                                                    [key], {});\n",
              "        if (!dataTable) return;\n",
              "\n",
              "        const docLinkHtml = 'Like what you see? Visit the ' +\n",
              "          '<a target=\"_blank\" href=https://colab.research.google.com/notebooks/data_table.ipynb>data table notebook</a>'\n",
              "          + ' to learn more about interactive tables.';\n",
              "        element.innerHTML = '';\n",
              "        dataTable['output_type'] = 'display_data';\n",
              "        await google.colab.output.renderOutput(dataTable, element);\n",
              "        const docLink = document.createElement('div');\n",
              "        docLink.innerHTML = docLinkHtml;\n",
              "        element.appendChild(docLink);\n",
              "      }\n",
              "    </script>\n",
              "  </div>\n",
              "\n",
              "\n",
              "<div id=\"df-7e4fa64a-4885-48aa-aa36-ed2ed7f0739f\">\n",
              "  <button class=\"colab-df-quickchart\" onclick=\"quickchart('df-7e4fa64a-4885-48aa-aa36-ed2ed7f0739f')\"\n",
              "            title=\"Suggest charts\"\n",
              "            style=\"display:none;\">\n",
              "\n",
              "<svg xmlns=\"http://www.w3.org/2000/svg\" height=\"24px\"viewBox=\"0 0 24 24\"\n",
              "     width=\"24px\">\n",
              "    <g>\n",
              "        <path d=\"M19 3H5c-1.1 0-2 .9-2 2v14c0 1.1.9 2 2 2h14c1.1 0 2-.9 2-2V5c0-1.1-.9-2-2-2zM9 17H7v-7h2v7zm4 0h-2V7h2v10zm4 0h-2v-4h2v4z\"/>\n",
              "    </g>\n",
              "</svg>\n",
              "  </button>\n",
              "\n",
              "<style>\n",
              "  .colab-df-quickchart {\n",
              "      --bg-color: #E8F0FE;\n",
              "      --fill-color: #1967D2;\n",
              "      --hover-bg-color: #E2EBFA;\n",
              "      --hover-fill-color: #174EA6;\n",
              "      --disabled-fill-color: #AAA;\n",
              "      --disabled-bg-color: #DDD;\n",
              "  }\n",
              "\n",
              "  [theme=dark] .colab-df-quickchart {\n",
              "      --bg-color: #3B4455;\n",
              "      --fill-color: #D2E3FC;\n",
              "      --hover-bg-color: #434B5C;\n",
              "      --hover-fill-color: #FFFFFF;\n",
              "      --disabled-bg-color: #3B4455;\n",
              "      --disabled-fill-color: #666;\n",
              "  }\n",
              "\n",
              "  .colab-df-quickchart {\n",
              "    background-color: var(--bg-color);\n",
              "    border: none;\n",
              "    border-radius: 50%;\n",
              "    cursor: pointer;\n",
              "    display: none;\n",
              "    fill: var(--fill-color);\n",
              "    height: 32px;\n",
              "    padding: 0;\n",
              "    width: 32px;\n",
              "  }\n",
              "\n",
              "  .colab-df-quickchart:hover {\n",
              "    background-color: var(--hover-bg-color);\n",
              "    box-shadow: 0 1px 2px rgba(60, 64, 67, 0.3), 0 1px 3px 1px rgba(60, 64, 67, 0.15);\n",
              "    fill: var(--button-hover-fill-color);\n",
              "  }\n",
              "\n",
              "  .colab-df-quickchart-complete:disabled,\n",
              "  .colab-df-quickchart-complete:disabled:hover {\n",
              "    background-color: var(--disabled-bg-color);\n",
              "    fill: var(--disabled-fill-color);\n",
              "    box-shadow: none;\n",
              "  }\n",
              "\n",
              "  .colab-df-spinner {\n",
              "    border: 2px solid var(--fill-color);\n",
              "    border-color: transparent;\n",
              "    border-bottom-color: var(--fill-color);\n",
              "    animation:\n",
              "      spin 1s steps(1) infinite;\n",
              "  }\n",
              "\n",
              "  @keyframes spin {\n",
              "    0% {\n",
              "      border-color: transparent;\n",
              "      border-bottom-color: var(--fill-color);\n",
              "      border-left-color: var(--fill-color);\n",
              "    }\n",
              "    20% {\n",
              "      border-color: transparent;\n",
              "      border-left-color: var(--fill-color);\n",
              "      border-top-color: var(--fill-color);\n",
              "    }\n",
              "    30% {\n",
              "      border-color: transparent;\n",
              "      border-left-color: var(--fill-color);\n",
              "      border-top-color: var(--fill-color);\n",
              "      border-right-color: var(--fill-color);\n",
              "    }\n",
              "    40% {\n",
              "      border-color: transparent;\n",
              "      border-right-color: var(--fill-color);\n",
              "      border-top-color: var(--fill-color);\n",
              "    }\n",
              "    60% {\n",
              "      border-color: transparent;\n",
              "      border-right-color: var(--fill-color);\n",
              "    }\n",
              "    80% {\n",
              "      border-color: transparent;\n",
              "      border-right-color: var(--fill-color);\n",
              "      border-bottom-color: var(--fill-color);\n",
              "    }\n",
              "    90% {\n",
              "      border-color: transparent;\n",
              "      border-bottom-color: var(--fill-color);\n",
              "    }\n",
              "  }\n",
              "</style>\n",
              "\n",
              "  <script>\n",
              "    async function quickchart(key) {\n",
              "      const quickchartButtonEl =\n",
              "        document.querySelector('#' + key + ' button');\n",
              "      quickchartButtonEl.disabled = true;  // To prevent multiple clicks.\n",
              "      quickchartButtonEl.classList.add('colab-df-spinner');\n",
              "      try {\n",
              "        const charts = await google.colab.kernel.invokeFunction(\n",
              "            'suggestCharts', [key], {});\n",
              "      } catch (error) {\n",
              "        console.error('Error during call to suggestCharts:', error);\n",
              "      }\n",
              "      quickchartButtonEl.classList.remove('colab-df-spinner');\n",
              "      quickchartButtonEl.classList.add('colab-df-quickchart-complete');\n",
              "    }\n",
              "    (() => {\n",
              "      let quickchartButtonEl =\n",
              "        document.querySelector('#df-7e4fa64a-4885-48aa-aa36-ed2ed7f0739f button');\n",
              "      quickchartButtonEl.style.display =\n",
              "        google.colab.kernel.accessAllowed ? 'block' : 'none';\n",
              "    })();\n",
              "  </script>\n",
              "</div>\n",
              "\n",
              "    </div>\n",
              "  </div>\n"
            ],
            "application/vnd.google.colaboratory.intrinsic+json": {
              "type": "dataframe",
              "variable_name": "df"
            }
          },
          "metadata": {},
          "execution_count": 2
        }
      ]
    },
    {
      "cell_type": "code",
      "source": [
        "msno.matrix(df_in)"
      ],
      "metadata": {
        "colab": {
          "base_uri": "https://localhost:8080/",
          "height": 683
        },
        "id": "bzYQTu0yKFYN",
        "outputId": "e9f65698-bbc2-41b3-a041-b9c264074342"
      },
      "execution_count": null,
      "outputs": [
        {
          "output_type": "execute_result",
          "data": {
            "text/plain": [
              "<Axes: >"
            ]
          },
          "metadata": {},
          "execution_count": 3
        },
        {
          "output_type": "display_data",
          "data": {
            "text/plain": [
              "<Figure size 2500x1000 with 2 Axes>"
            ],
            "image/png": "[encoded data removed]"
          },
          "metadata": {}
        }
      ]
    },
    {
      "cell_type": "markdown",
      "source": [
        "# Create a train set and validation set"
      ],
      "metadata": {
        "id": "F7sATcJZF8RO"
      }
    },
    {
      "cell_type": "code",
      "source": [
        "city_list = []\n",
        "\n",
        "for i in df.columns:\n",
        "  city = i.split('_')[-1]\n",
        "  if city not in city_list:\n",
        "    city_list.append(city)\n",
        "\n",
        "print(city_list)\n"
      ],
      "metadata": {
        "colab": {
          "base_uri": "https://localhost:8080/"
        },
        "id": "T9TBeIuhJU7K",
        "outputId": "60cb39eb-fc02-4dc1-ea63-9834b74d52d5"
      },
      "execution_count": null,
      "outputs": [
        {
          "output_type": "stream",
          "name": "stdout",
          "text": [
            "['Muis', 'Quin', 'Pvie', 'Chon', 'Calc', 'Guaq', 'Mila', 'Scru', 'Scri', 'Guag', 'Taba', 'Quit', 'Papa', 'Izob', 'Sier', 'Lumb', 'Yasu', 'Glqz', 'Tena', 'Maca', 'Sang', 'Puyo', 'Yanz']\n"
          ]
        }
      ]
    },
    {
      "cell_type": "code",
      "source": [
        "np.random.seed(9)  # Set seed for reproducibility\n",
        "\n",
        "def get_consecutive_non_nan(df, start_index=None, percent = 0.2, max_attempts=1000, ):\n",
        "\n",
        "    n = int(len(df.dropna()) * percent) -1\n",
        "\n",
        "\n",
        "    if start_index is not None:\n",
        "      return df.loc[start_index:start_index+n]\n",
        "\n",
        "    else:\n",
        "      for _ in range(max_attempts):\n",
        "          # Try random starting index\n",
        "          start_index = np.random.randint(0, len(df) - n)\n",
        "          # Check if 10 consecutive values are non-NaN\n",
        "          if not df.loc[start_index:start_index+n].isna().any().any():\n",
        "              print(start_index)\n",
        "              return df.loc[start_index:start_index+n]\n",
        "    raise ValueError(\"Couldn't find 10 consecutive non-NaN values after %d attempts\" % max_attempts)"
      ],
      "metadata": {
        "id": "_wiISDsPTHpX"
      },
      "execution_count": null,
      "outputs": []
    },
    {
      "cell_type": "markdown",
      "source": [
        "We can use or not the world clim data for the prediction\n",
        "\n",
        "On validation set, we can simulate hold by ramdom unifom ablation of values or by random block ablation, witch represente better the hole of the original data set"
      ],
      "metadata": {
        "id": "i-LcPfnB1KQB"
      }
    },
    {
      "cell_type": "code",
      "source": [
        "cat_wc = False\n",
        "\n",
        "block_hole = False\n",
        "\n",
        "starts_index = [67,270,388,474,656,331,314,209,551,432,515,189,394,512,597,616,359,575,640,599,560,365,390]\n",
        "\n",
        "train_df = df_in.copy()\n",
        "\n",
        "for i, c in enumerate(city_list):\n",
        "\n",
        "\n",
        "  col = train_df.loc[:, train_df.columns.str.endswith(c)]\n",
        "\n",
        "  if block_hole:\n",
        "    idx = get_consecutive_non_nan(col).index\n",
        "  else:\n",
        "    idx = col.dropna().sample(len(col.dropna())*2//10).index\n",
        "\n",
        "  train_df.loc[idx, train_df.columns.str.endswith(c)] = float('nan')\n",
        "\n",
        "\n",
        "train_df = train_df.sort_index()\n",
        "\n",
        "\n",
        "if cat_wc:\n",
        "\n",
        "  train_df = train_df.join( df_wc)\n",
        "\n",
        "  ori_df = df_in.join( df_wc)\n",
        "\n",
        "else:\n",
        "  ori_df=df_in\n",
        "\n",
        "scaler = StandardScaler()\n",
        "\n",
        "train_df = pd.DataFrame(scaler.fit_transform(train_df.to_numpy()), columns=train_df.columns)\n",
        "ori_df = pd.DataFrame(scaler.transform(ori_df.to_numpy()), columns=ori_df.columns)\n",
        "\n",
        "\n",
        "msno.matrix(train_df)\n",
        "\n",
        "msno.matrix(ori_df)\n"
      ],
      "metadata": {
        "colab": {
          "base_uri": "https://localhost:8080/",
          "height": 1000
        },
        "id": "c5LA5X5hNL4p",
        "outputId": "763abdf7-2255-4a07-bb50-6195288d3ce7"
      },
      "execution_count": null,
      "outputs": [
        {
          "output_type": "execute_result",
          "data": {
            "text/plain": [
              "<Axes: >"
            ]
          },
          "metadata": {},
          "execution_count": 9
        },
        {
          "output_type": "display_data",
          "data": {
            "text/plain": [
              "<Figure size 2500x1000 with 2 Axes>"
            ],
            "image/png": "[encoded data removed]"
          },
          "metadata": {}
        },
        {
          "output_type": "display_data",
          "data": {
            "text/plain": [
              "<Figure size 2500x1000 with 2 Axes>"
            ],
            "image/png": "[encoded data removed]"
          },
          "metadata": {}
        }
      ]
    },
    {
      "cell_type": "markdown",
      "source": [
        "# Utilities"
      ],
      "metadata": {
        "id": "OTVABHBXCZKf"
      }
    },
    {
      "cell_type": "code",
      "source": [
        "import plotly.express as px\n",
        "\n",
        "def plot(df1, df2, col = 'IN_Ta_Muis', n1 = '1', n2 = '2'):\n",
        "  ndf = pd.DataFrame()\n",
        "\n",
        "  ndf[n1] = df1[col]\n",
        "  ndf[n2] = df2[col]\n",
        "\n",
        "  fig = px.line(ndf, x=ndf.index, y=ndf.columns, title=col, )\n",
        "  fig.show(renderer=\"colab\")\n",
        "\n"
      ],
      "metadata": {
        "id": "rEgW6464Ywtb"
      },
      "execution_count": null,
      "outputs": []
    },
    {
      "cell_type": "code",
      "source": [
        "from pypots.utils.metrics import calc_mae, calc_mse\n",
        "\n",
        "def metrics(imputation, X, X_ori):\n",
        "  indicating_mask = np.isnan(X) ^ np.isnan(X_ori)\n",
        "  mae = calc_mae(imputation, np.nan_to_num(X_ori), indicating_mask)  # calculate mean absolute error on the ground truth (artificially-missing values)\n",
        "  mse = calc_mse(imputation, np.nan_to_num(X_ori), indicating_mask)\n",
        "\n",
        "  print(' MAE: ',mae, 'MSE: ', mse)"
      ],
      "metadata": {
        "id": "3BuSU1VxCX5I"
      },
      "execution_count": null,
      "outputs": []
    },
    {
      "cell_type": "markdown",
      "source": [
        "# Test of differents models"
      ],
      "metadata": {
        "id": "n33R4ovjCdFn"
      }
    },
    {
      "cell_type": "markdown",
      "source": [
        "## SAITS\n",
        "\n"
      ],
      "metadata": {
        "id": "u-jt0rEnFw_P"
      }
    },
    {
      "cell_type": "code",
      "source": [
        "\n",
        "# pip install pypots>=0.4\n",
        "import numpy as np\n",
        "from sklearn.preprocessing import StandardScaler\n",
        "from pygrinder import mcar\n",
        "from pypots.data import load_specific_dataset\n",
        "from pypots.imputation import SAITS\n",
        "\n",
        "\n",
        "X = train_df.to_numpy()\n",
        "\n",
        "n_features = X.shape[-1]\n",
        "n_steps =  31 * 3 * 2 * 2 * 2\n",
        "X = X.reshape(-1, n_steps, n_features)\n",
        "X_ori = ori_df.to_numpy().reshape(-1, n_steps, n_features)\n",
        "dataset = {\"X\": X}  # X for model input\n",
        "print(X.shape) # (1, 744, 154), 1 sample and each sample has 744 time steps, 154 features\n",
        "\n",
        "# Model training. This is PyPOTS showtime.\n",
        "saits = SAITS(n_steps=n_steps, n_features=n_features, n_layers=2, d_model=256*4, d_ffn=128*4, n_heads=4*2, d_k=64*2, d_v=64*2, dropout=0., epochs=50)\n",
        "# saits = SAITS(n_steps=n_steps, n_features=n_features, n_layers=2, d_model=256*2, d_ffn=128*4, n_heads=4*2, d_k=64, d_v=64, dropout=0., epochs=50)\n",
        "# Here I use the whole dataset as the training set because ground truth is not visible to the model, you can also split it into train/val/test sets\n",
        "saits.fit(dataset)\n",
        "imputation = saits.predict(dataset)  # impute the originally-missing values and artificially-missing values\n",
        "indicating_mask = np.isnan(X) ^ np.isnan(X_ori)  # indicating mask for imputation error calculation\n",
        "\n",
        "metrics(imputation['imputation'], X, X_ori)  # calculate mean absolute error on the ground truth (artificially-missing values)\n",
        "\n",
        "imp_df = pd.DataFrame(imputation['imputation'].reshape(-1, n_features), columns=train_df.columns)\n",
        "\n",
        "\n",
        "plot(imp_df, train_df, n1='predicted', n2 = 'train set')\n",
        "plot(imp_df, ori_df, n1='predicted', n2 = 'original data')\n"
      ],
      "metadata": {
        "colab": {
          "base_uri": "https://localhost:8080/"
        },
        "id": "iOvnBarkgHZL",
        "outputId": "f8dcc53c-e799-43b5-8693-72791858e7b4"
      },
      "execution_count": null,
      "outputs": [
        {
          "output_type": "stream",
          "name": "stderr",
          "text": [
            "2024-05-08 22:43:06 [INFO]: No given device, using default device: cpu\n",
            "2024-05-08 22:43:06 [WARNING]: ‼️ saving_path not given. Model files and tensorboard file will not be saved.\n",
            "2024-05-08 22:43:06 [INFO]: SAITS initialized with the given hyperparameters, the number of trainable parameters: 22,104,896\n"
          ]
        },
        {
          "output_type": "stream",
          "name": "stdout",
          "text": [
            "(1, 744, 154)\n"
          ]
        },
        {
          "output_type": "stream",
          "name": "stderr",
          "text": [
            "2024-05-08 22:43:08 [INFO]: Epoch 001 - training loss: 1.6609\n",
            "2024-05-08 22:43:11 [INFO]: Epoch 002 - training loss: 2.0262\n",
            "2024-05-08 22:43:13 [INFO]: Epoch 003 - training loss: 1.6509\n",
            "2024-05-08 22:43:16 [INFO]: Epoch 004 - training loss: 1.4331\n",
            "2024-05-08 22:43:19 [INFO]: Epoch 005 - training loss: 1.5525\n",
            "2024-05-08 22:43:21 [INFO]: Epoch 006 - training loss: 1.3727\n",
            "2024-05-08 22:43:23 [INFO]: Epoch 007 - training loss: 1.2140\n",
            "2024-05-08 22:43:25 [INFO]: Epoch 008 - training loss: 1.1993\n",
            "2024-05-08 22:43:28 [INFO]: Epoch 009 - training loss: 1.1641\n",
            "2024-05-08 22:43:31 [INFO]: Epoch 010 - training loss: 1.1186\n",
            "2024-05-08 22:43:34 [INFO]: Epoch 011 - training loss: 1.0838\n",
            "2024-05-08 22:43:36 [INFO]: Epoch 012 - training loss: 1.0631\n",
            "2024-05-08 22:43:38 [INFO]: Epoch 013 - training loss: 1.0513\n",
            "2024-05-08 22:43:41 [INFO]: Epoch 014 - training loss: 0.9980\n",
            "2024-05-08 22:43:45 [INFO]: Epoch 015 - training loss: 0.9803\n",
            "2024-05-08 22:43:47 [INFO]: Epoch 016 - training loss: 0.9623\n",
            "2024-05-08 22:43:50 [INFO]: Epoch 017 - training loss: 0.9289\n",
            "2024-05-08 22:43:52 [INFO]: Epoch 018 - training loss: 0.9209\n",
            "2024-05-08 22:43:55 [INFO]: Epoch 019 - training loss: 0.9059\n",
            "2024-05-08 22:43:59 [INFO]: Epoch 020 - training loss: 0.8935\n",
            "2024-05-08 22:44:02 [INFO]: Epoch 021 - training loss: 0.8573\n",
            "2024-05-08 22:44:05 [INFO]: Epoch 022 - training loss: 0.8503\n",
            "2024-05-08 22:44:08 [INFO]: Epoch 023 - training loss: 0.8220\n",
            "2024-05-08 22:44:11 [INFO]: Epoch 024 - training loss: 0.7980\n",
            "2024-05-08 22:44:15 [INFO]: Epoch 025 - training loss: 0.7933\n",
            "2024-05-08 22:44:18 [INFO]: Epoch 026 - training loss: 0.7717\n",
            "2024-05-08 22:44:21 [INFO]: Epoch 027 - training loss: 0.7675\n",
            "2024-05-08 22:44:25 [INFO]: Epoch 028 - training loss: 0.7476\n",
            "2024-05-08 22:44:29 [INFO]: Epoch 029 - training loss: 0.7352\n",
            "2024-05-08 22:44:32 [INFO]: Epoch 030 - training loss: 0.7237\n",
            "2024-05-08 22:44:35 [INFO]: Epoch 031 - training loss: 0.7356\n",
            "2024-05-08 22:44:39 [INFO]: Epoch 032 - training loss: 0.7480\n",
            "2024-05-08 22:44:43 [INFO]: Epoch 033 - training loss: 0.7546\n",
            "2024-05-08 22:44:46 [INFO]: Epoch 034 - training loss: 0.7111\n",
            "2024-05-08 22:44:49 [INFO]: Epoch 035 - training loss: 0.6875\n",
            "2024-05-08 22:44:54 [INFO]: Epoch 036 - training loss: 0.6959\n"
          ]
        }
      ]
    },
    {
      "cell_type": "code",
      "source": [
        "vars = ['R', 'T']\n",
        "\n",
        "imp_df = []\n",
        "for v in vars:\n",
        "\n",
        "  X = train_df.loc[:, train_df.columns.str.startswith('IN_'+v)+train_df.columns.str.startswith('WC_'+v)].to_numpy()\n",
        "\n",
        "  n_features = X.shape[-1]\n",
        "  n_steps =  31 * 3 * 2 * 2 * 2\n",
        "  X = X.reshape(-1, n_steps, n_features)\n",
        "  X_ori = ori_df.loc[:, ori_df.columns.str.startswith('IN_'+v)+ori_df.columns.str.startswith('WC_'+v)].to_numpy().reshape(-1, n_steps, n_features)\n",
        "  dataset = {\"X\": X}  # X for model input\n",
        "  print(X.shape) # (1, 744, 154), 1 sample and each sample has 744 time steps, 154 features\n",
        "\n",
        "  # Model training. This is PyPOTS showtime.\n",
        "  saits = SAITS(n_steps=n_steps, n_features=n_features, n_layers=2, d_model=256*2, d_ffn=128*4, n_heads=4, d_k=64*2, d_v=64*2, dropout=0., epochs=50)\n",
        "  # saits = SAITS(n_steps=n_steps, n_features=n_features, n_layers=2, d_model=256*4, d_ffn=128*4, n_heads=4*2, d_k=64*2, d_v=64*2, dropout=0., epochs=50)\n",
        "  # Here I use the whole dataset as the training set because ground truth is not visible to the model, you can also split it into train/val/test sets\n",
        "  saits.fit(dataset)\n",
        "  imputation = saits.predict(dataset)  # impute the originally-missing values and artificially-missing values\n",
        "  indicating_mask = np.isnan(X) ^ np.isnan(X_ori)  # indicating mask for imputation error calculation\n",
        "\n",
        "  mae = calc_mae(imputation['imputation'], np.nan_to_num(X_ori), indicating_mask)  # calculate mean absolute error on the ground truth (artificially-missing values)\n",
        "  mse = calc_mse(imputation['imputation'], np.nan_to_num(X_ori), indicating_mask)\n",
        "\n",
        "  print(v,' MAE: ',mae, 'MSE: ', mse)\n",
        "\n",
        "\n",
        "  imp_df.append(pd.DataFrame(imputation['imputation'].reshape(-1, n_features), columns=train_df.loc[:, train_df.columns.str.startswith('IN_'+v)+train_df.columns.str.startswith('WC_'+v)].columns))\n",
        "\n",
        "\n",
        "imp_df = pd.concat(imp_df, axis=1).reindex(columns=ori_df.columns)\n",
        "\n",
        "indicating_mask = np.isnan(train_df.to_numpy()) ^ np.isnan(ori_df.to_numpy())\n",
        "\n",
        "\n",
        "\n",
        "mae = calc_mae(imp_df.to_numpy(), np.nan_to_num(ori_df.to_numpy()), indicating_mask)\n",
        "mse = calc_mse(imp_df.to_numpy(), np.nan_to_num(ori_df.to_numpy()), indicating_mask)\n",
        "\n",
        "print('TOTAL MAE: ',mae, 'MSE: ', mse)\n",
        "\n",
        "plot(imp_df, train_df, n1='predicted', n2 = 'train set')\n",
        "plot(imp_df, ori_df, n1='predicted', n2 = 'original data')"
      ],
      "metadata": {
        "id": "9qsSgSZ1IY2Q"
      },
      "execution_count": null,
      "outputs": []
    },
    {
      "cell_type": "markdown",
      "source": [
        "## KNN"
      ],
      "metadata": {
        "id": "Ztbc-gI7mVy-"
      }
    },
    {
      "cell_type": "code",
      "source": [
        "from sklearn.impute import KNNImputer\n",
        "\n",
        "X = X.reshape(-1, n_features)\n",
        "X_ori = scaler.transform(ori_df.to_numpy()).reshape(-1 , n_features)\n",
        "\n",
        "imputer = KNNImputer(n_neighbors=5)\n",
        "\n",
        "imputation = imputer.fit_transform(X)\n",
        "\n",
        "metrics(imputation, X, X_ori)  # calculate mean absolute error on the ground truth (artificially-missing values)\n",
        "\n",
        "imp_df = pd.DataFrame(scaler.inverse_transform(imputation.reshape(-1, n_features)), columns=train_df.columns)\n",
        "\n",
        "\n",
        "\n",
        "plot(imp_df, train_df, n1='predicted', n2 = 'train set')\n",
        "plot(imp_df, ori_df, n1='predicted', n2 = 'original data')\n"
      ],
      "metadata": {
        "id": "s12Upp0AhZ-_"
      },
      "execution_count": null,
      "outputs": []
    },
    {
      "cell_type": "markdown",
      "source": [
        "## iTransformer"
      ],
      "metadata": {
        "id": "cHwdflZfmZEZ"
      }
    },
    {
      "cell_type": "code",
      "source": [
        "\n",
        "# pip install pypots>=0.4\n",
        "import numpy as np\n",
        "from sklearn.preprocessing import StandardScaler\n",
        "from pygrinder import mcar\n",
        "from pypots.data import load_specific_dataset\n",
        "from pypots.imputation import iTransformer\n",
        "from pypots.utils.metrics import calc_mae\n",
        "\n",
        "scaler = StandardScaler()\n",
        "\n",
        "X = scaler.fit_transform(train_df.to_numpy())\n",
        "\n",
        "n_features = X.shape[-1]\n",
        "n_steps = 2 * 2 * 2 * 3 * 31\n",
        "X = X.reshape(-1, n_steps, n_features)\n",
        "X_ori = scaler.transform(ori_df.to_numpy()).reshape(-1, n_steps, n_features)\n",
        "dataset = {\"X\": X}  # X for model input\n",
        "print(X.shape)  # (1, 744, 154), 1 sample and each sample has 744 time steps, 37 features\n",
        "\n",
        "# Model training\n",
        "saits = iTransformer(n_steps=n_steps, n_features=n_features, n_layers=4, d_model=256*4, d_ffn=128*4, n_heads=4*2, d_k=64*2, d_v=64*2, dropout=0.1, epochs=50)\n",
        "# Here I use the whole dataset as the training set because ground truth is not visible to the model, you can also split it into train/val/test sets\n",
        "saits.fit(dataset)\n",
        "imputation = saits.predict(dataset)  # impute the originally-missing values and artificially-missing values\n",
        "\n",
        "metrics(imputation['imputation'], X, X_ori)  # calculate mean absolute error on the ground truth (artificially-missing values)\n",
        "\n",
        "imp_df = pd.DataFrame(scaler.inverse_transform(imputation['imputation'].reshape(-1, n_features)), columns=train_df.columns)\n",
        "\n",
        "plot(imp_df, train_df, n1='predicted', n2 = 'train set')\n",
        "plot(imp_df, ori_df, n1='predicted', n2 = 'original data')\n"
      ],
      "metadata": {
        "id": "ZhchTWsKlEmj"
      },
      "execution_count": null,
      "outputs": []
    },
    {
      "cell_type": "markdown",
      "source": [
        "## DLinear"
      ],
      "metadata": {
        "id": "XrwmKZwDmdQZ"
      }
    },
    {
      "cell_type": "code",
      "source": [
        "# pip install pypots>=0.4\n",
        "import numpy as np\n",
        "from sklearn.preprocessing import StandardScaler\n",
        "from pygrinder import mcar\n",
        "from pypots.data import load_specific_dataset\n",
        "from pypots.imputation import DLinear\n",
        "from pypots.utils.metrics import calc_mae\n",
        "\n",
        "scaler = StandardScaler()\n",
        "\n",
        "X = scaler.fit_transform(train_df.to_numpy())\n",
        "\n",
        "n_features = X.shape[-1]\n",
        "n_steps = 2 * 2 * 2 * 3 * 31\n",
        "X = X.reshape(-1, n_steps, n_features)\n",
        "X_ori = scaler.transform(ori_df.to_numpy()).reshape(-1, n_steps, n_features)\n",
        "dataset = {\"X\": X}  # X for model input\n",
        "print(X.shape)  # (11988, 48, 37), 11988 samples and each sample has 48 time steps, 37 features\n",
        "# Model training. This is PyPOTS showtime.\n",
        "saits = DLinear(n_steps=n_steps, n_features=n_features, d_model=256, moving_avg_window_size=32, epochs=50)\n",
        "# Here I use the whole dataset as the training set because ground truth is not visible to the model, you can also split it into train/val/test sets\n",
        "saits.fit(dataset)\n",
        "imputation = saits.predict(dataset)  # impute the originally-missing values and artificially-missing values\n",
        "indicating_mask = np.isnan(X) ^ np.isnan(X_ori)  # indicating mask for imputation error calculation\n",
        "\n",
        "mae = calc_mae(imputation['imputation'], np.nan_to_num(X_ori), indicating_mask)  # calculate mean absolute error on the ground truth (artificially-missing values)\n",
        "\n",
        "imp_df = pd.DataFrame(scaler.inverse_transform(imputation['imputation'].reshape(-1, n_features)), columns=train_df.columns, index=train_df.index)\n",
        "\n",
        "\n",
        "\n",
        "plot(imp_df, train_df)\n",
        "plot(imp_df, ori_df)\n",
        "\n",
        "print(mae)"
      ],
      "metadata": {
        "id": "qULEWoPUmmPZ"
      },
      "execution_count": null,
      "outputs": []
    },
    {
      "cell_type": "markdown",
      "source": [
        "## LOCF"
      ],
      "metadata": {
        "id": "yRPZ3TexD2Hb"
      }
    },
    {
      "cell_type": "code",
      "source": [
        "# pip install pypots>=0.4\n",
        "import numpy as np\n",
        "from sklearn.preprocessing import StandardScaler\n",
        "from pypots.data import load_specific_dataset\n",
        "from pypots.imputation import LOCF\n",
        "from pypots.utils.metrics import calc_mae\n",
        "\n",
        "\n",
        "scaler = StandardScaler()\n",
        "\n",
        "X = scaler.fit_transform(train_df.to_numpy())\n",
        "\n",
        "n_features = X.shape[-1]\n",
        "n_steps = 2 * 2 * 2 * 3 * 31\n",
        "X = X.reshape(-1, n_steps, n_features)\n",
        "X_ori = scaler.transform(ori_df.to_numpy()).reshape(-1, n_steps, n_features)\n",
        "dataset = {\"X\": X}  # X for model input\n",
        "print(X.shape)  # (11988, 48, 37), 11988 samples and each sample has 48 time steps, 37 features\n",
        "\n",
        "# Model training. This is PyPOTS showtime.\n",
        "saits = LOCF()\n",
        "# Here I use the whole dataset as the training set because ground truth is not visible to the model, you can also split it into train/val/test sets\n",
        "\n",
        "imputation = saits.predict(dataset)  # impute the originally-missing values and artificially-missing values\n",
        "metrics(imputation['imputation'], X, X_ori)  # calculate mean absolute error on the ground truth (artificially-missing values)"
      ],
      "metadata": {
        "id": "t28ylpmeEKdg"
      },
      "execution_count": null,
      "outputs": []
    },
    {
      "cell_type": "markdown",
      "source": [
        "# Results\n",
        "\n",
        "Uniform holes eval\n",
        "\n",
        "| Model | MAE | MSE |\n",
        "| :- | -: | :-: |\n",
        "| SAITS | 0.4160 | 0.3661\n",
        "| iTransformer| 0.5050 |  0.5048\n",
        "| KNN | 0.5423 | 0.5812\n",
        "| LOCF | 0.7041 | 0.9204\n",
        "\n",
        "Block holes eval\n",
        "\n",
        "| Model | MAE | MSE |\n",
        "| :- | -: | :-: |\n",
        "| SAITS | 0.4782 | 0.4863\n",
        "| iTransformer| 0.5159 |  0.5509\n",
        "| KNN | 0.5399 |  0.5982\n",
        "| LOCF | 1.0709 | 2.0678\n",
        "\n",
        "SAITS Whithout WC  MAE:  0.5243 MSE:  0.5464\n",
        "\n",
        "It's appear clearly that SAITS is the better model, so we will choose it\n"
      ],
      "metadata": {
        "id": "P-0zfoy4_ZNX"
      }
    },
    {
      "cell_type": "markdown",
      "source": [
        "# New data"
      ],
      "metadata": {
        "id": "OQJ7S-OMyStn"
      }
    },
    {
      "cell_type": "code",
      "source": [
        "scaler = StandardScaler()\n",
        "\n",
        "X = scaler.fit_transform(ori_df.to_numpy())\n",
        "\n",
        "n_features = X.shape[-1]\n",
        "n_steps =  31 * 3 * 2 * 2 * 2\n",
        "X = X.reshape(-1, n_steps, n_features)\n",
        "X_ori = scaler.transform(ori_df.to_numpy()).reshape(-1, n_steps, n_features)\n",
        "dataset = {\"X\": X}  # X for model input\n",
        "print(X.shape)  # (11988, 48, 37), 11988 samples and each sample has 48 time steps, 37 features\n",
        "\n",
        "# Model training. This is PyPOTS showtime.\n",
        "saits = SAITS(n_steps=n_steps, n_features=n_features, n_layers=2, d_model=256*2, d_ffn=128*4, n_heads=4*2, d_k=64, d_v=64, dropout=0., epochs=50)\n",
        "# Here I use the whole dataset as the training set because ground truth is not visible to the model, you can also split it into train/val/test sets\n",
        "saits.fit(dataset)\n",
        "imputation = saits.predict(dataset)  # impute the originally-missing values and artificially-missing values\n",
        "\n",
        "imp_df = pd.DataFrame(scaler.inverse_transform(imputation['imputation'].reshape(-1, n_features)), columns=ori_df.columns, index=ori_df.index)\n",
        "\n",
        "df = pd.read_csv(\"https://raw.githubusercontent.com/marsgr6/r-scripts/master/data/WC_INA_Final.csv\")\n",
        "\n",
        "# df.set_index('Oni_date', inplace=True, drop=True)\n",
        "\n",
        "imp_df[['Oni_date', 'ONI', 'ElNino Index 1,2_temp', 'ElNino Index 1,2_annomaly']] = df[['Oni_date', 'ONI', 'ElNino Index 1,2_temp', 'ElNino Index 1,2_annomaly']]\n",
        "\n",
        "imp_df.to_csv('data.csv')"
      ],
      "metadata": {
        "id": "WgD_RETvyP0A"
      },
      "execution_count": null,
      "outputs": []
    }
  ]
}