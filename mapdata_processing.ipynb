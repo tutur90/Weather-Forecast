{
 "cells": [
  {
   "cell_type": "code",
   "execution_count": null,
   "metadata": {},
   "outputs": [],
   "source": [
    "import pandas as pd\n",
    "import missingno as msno\n",
    "import matplotlib.pyplot as plt\n",
    "import numpy as np\n",
    "#Local\n",
    "df = pd.read_csv('data/mapdata/mapdata.csv', header=[0,1], index_col=[0,1])\n",
    "\n",
    "#Colab\n",
    "# df = pd.read_csv('https://raw.githubusercontent.com/tutur90/Weather-Forecast/main/data/mapdata.csv', header=[0,1])\n",
    "\n",
    "\n",
    "df.index.names = ['Latitude', 'Longitude']\n",
    "\n",
    "new_columns = []\n",
    "current_name = ''\n",
    "\n",
    "for col in df.columns:\n",
    "    if 'Unnamed' not in col[0]:\n",
    "        current_name = col[0]\n",
    "    new_columns.append((current_name, col[1]))\n",
    "\n",
    "df.columns = pd.MultiIndex.from_tuples(new_columns)\n",
    "df.to_csv(\"data/mapdata_processed.csv\")\n",
    "\n",
    "df"
   ]
  }
 ],
 "metadata": {
  "language_info": {
   "name": "python"
  }
 },
 "nbformat": 4,
 "nbformat_minor": 2
}
